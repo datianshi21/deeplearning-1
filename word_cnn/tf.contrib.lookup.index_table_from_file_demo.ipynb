{
 "cells": [
  {
   "cell_type": "code",
   "execution_count": 11,
   "metadata": {},
   "outputs": [
    {
     "name": "stdout",
     "output_type": "stream",
     "text": [
      "[9008 3418   41]\n",
      "[9008 3418   41]\n",
      "<class 'numpy.ndarray'>\n"
     ]
    }
   ],
   "source": [
    "import tensorflow as tf\n",
    "import numpy as np\n",
    "path_vocab=\"./dbpedia_csv/words.txt\"\n",
    "num_oov_buckets=1\n",
    "vocab = tf.contrib.lookup.index_table_from_file(path_vocab, num_oov_buckets=num_oov_buckets)\n",
    "features=tf.constant([\"hi\", \"you\", \"and\"])\n",
    "ids = vocab.lookup(features)\n",
    "with tf.Session() as sess:\n",
    "    sess.run(tf.tables_initializer())\n",
    "    print (ids.eval())\n",
    "    print (sess.run(ids))\n",
    "    print (type(sess.run(ids)))\n",
    "#tf.tables_initializer().run()\n",
    "#ids.eval()"
   ]
  },
  {
   "cell_type": "code",
   "execution_count": null,
   "metadata": {
    "collapsed": true
   },
   "outputs": [],
   "source": []
  },
  {
   "cell_type": "code",
   "execution_count": null,
   "metadata": {
    "collapsed": true
   },
   "outputs": [],
   "source": []
  }
 ],
 "metadata": {
  "kernelspec": {
   "display_name": "Python 3",
   "language": "python",
   "name": "python3"
  },
  "language_info": {
   "codemirror_mode": {
    "name": "ipython",
    "version": 3
   },
   "file_extension": ".py",
   "mimetype": "text/x-python",
   "name": "python",
   "nbconvert_exporter": "python",
   "pygments_lexer": "ipython3",
   "version": "3.6.3"
  }
 },
 "nbformat": 4,
 "nbformat_minor": 2
}
