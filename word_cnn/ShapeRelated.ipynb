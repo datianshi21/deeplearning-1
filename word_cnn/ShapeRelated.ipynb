{
 "cells": [
  {
   "cell_type": "code",
   "execution_count": 1,
   "metadata": {},
   "outputs": [
    {
     "name": "stdout",
     "output_type": "stream",
     "text": [
      "(2, 2)\n",
      "(2, 2)\n",
      "(2, 2)\n"
     ]
    }
   ],
   "source": [
    "import tensorflow as tf\n",
    "a = tf.constant([[3.0, 1.0], [2.0, 1.0]], dtype=tf.float32)\n",
    "print (a.shape)\n",
    "a.set_shape([2, 2])\n",
    "print (a.shape)\n",
    "print (a.get_shape())\n",
    "#print (a.reshape(4, 1))\n",
    "#a = tf.reshape(a, shape=[4, 1])\n",
    "#print (a.get_shape())"
   ]
  },
  {
   "cell_type": "markdown",
   "metadata": {},
   "source": [
    "#### 计算维度"
   ]
  },
  {
   "cell_type": "code",
   "execution_count": 21,
   "metadata": {},
   "outputs": [
    {
     "name": "stdout",
     "output_type": "stream",
     "text": [
      "Get shape:  (4, 1)\n",
      "Get return type:  <class 'tensorflow.python.framework.tensor_shape.TensorShape'>\n",
      "Get return type:  <class 'tensorflow.python.framework.tensor_shape.TensorShape'>\n"
     ]
    }
   ],
   "source": [
    "print (\"Get shape: \", a.get_shape())\n",
    "print (\"Get return type: \", type(a.get_shape()))\n",
    "print (\"Get return type: \", type(a.shape))"
   ]
  },
  {
   "cell_type": "markdown",
   "metadata": {},
   "source": [
    "#### Reshape"
   ]
  },
  {
   "cell_type": "code",
   "execution_count": 19,
   "metadata": {},
   "outputs": [
    {
     "name": "stdout",
     "output_type": "stream",
     "text": [
      "After reshape:  (4, 1)\n"
     ]
    }
   ],
   "source": [
    "a = tf.reshape(a, shape=[4, 1])\n",
    "print (\"After reshape: \", a.get_shape())"
   ]
  },
  {
   "cell_type": "markdown",
   "metadata": {},
   "source": [
    "#### 计算元素个数"
   ]
  },
  {
   "cell_type": "code",
   "execution_count": 23,
   "metadata": {},
   "outputs": [
    {
     "name": "stdout",
     "output_type": "stream",
     "text": [
      "Tensor(\"Size_1:0\", shape=(), dtype=int32)\n"
     ]
    }
   ],
   "source": [
    "print (tf.size(a))"
   ]
  },
  {
   "cell_type": "markdown",
   "metadata": {},
   "source": [
    "#### 计算秩"
   ]
  },
  {
   "cell_type": "code",
   "execution_count": 24,
   "metadata": {},
   "outputs": [
    {
     "name": "stdout",
     "output_type": "stream",
     "text": [
      "Tensor(\"Rank:0\", shape=(), dtype=int32)\n"
     ]
    }
   ],
   "source": [
    "print (tf.rank(a))"
   ]
  },
  {
   "cell_type": "markdown",
   "metadata": {},
   "source": [
    "#### expand_dim\n",
    "作用同reshape，但可以对placeholder用"
   ]
  },
  {
   "cell_type": "code",
   "execution_count": 38,
   "metadata": {},
   "outputs": [
    {
     "name": "stdout",
     "output_type": "stream",
     "text": [
      "(1, 4)\n",
      "(4, 1)\n",
      "(4, 1)\n",
      "---------\n",
      "(2, 4)\n",
      "(1, 2, 4)\n",
      "(2, 1, 4)\n",
      "(2, 4, 1)\n",
      "---------\n",
      "Ori c:  [[ 1.  2.  3.  4.]\n",
      " [ 1.  2.  3.  4.]]\n",
      "C1:  [[[ 1.  2.  3.  4.]\n",
      "  [ 1.  2.  3.  4.]]]\n",
      "C2:  [[[ 1.  2.  3.  4.]]\n",
      "\n",
      " [[ 1.  2.  3.  4.]]]\n",
      "C3:  [[[ 1.]\n",
      "  [ 2.]\n",
      "  [ 3.]\n",
      "  [ 4.]]\n",
      "\n",
      " [[ 1.]\n",
      "  [ 2.]\n",
      "  [ 3.]\n",
      "  [ 4.]]]\n"
     ]
    }
   ],
   "source": [
    "b = tf.constant([1.0, 2.0, 3.0, 4.0], dtype=tf.float32)\n",
    "b1 = tf.expand_dims(b, 0)\n",
    "print (b1.shape)\n",
    "b2 = tf.expand_dims(b, 1)\n",
    "print (b2.shape)\n",
    "b3 = tf.expand_dims(b, -1)\n",
    "print (b3.shape)\n",
    "print (\"---------\")\n",
    "c = tf.constant([[1.0, 2.0, 3.0, 4.0], [1.0, 2.0, 3.0, 4.0]])\n",
    "print (c.shape)\n",
    "c1 = tf.expand_dims(c, 0)\n",
    "print (c1.shape)\n",
    "c2 = tf.expand_dims(c, 1)\n",
    "print (c2.shape)\n",
    "c3 = tf.expand_dims(c, 2)\n",
    "print (c3.shape)\n",
    "print (\"---------\")\n",
    "\n",
    "with tf.Session() as sess:\n",
    "    print (\"Ori c: \", sess.run(c))\n",
    "    print (\"C1: \", sess.run(c1))\n",
    "    print (\"C2: \", sess.run(c2))\n",
    "    print (\"C3: \", sess.run(c3))\n",
    "    sess.close()"
   ]
  },
  {
   "cell_type": "markdown",
   "metadata": {},
   "source": [
    "#### slice tensors"
   ]
  },
  {
   "cell_type": "code",
   "execution_count": 46,
   "metadata": {},
   "outputs": [
    {
     "name": "stdout",
     "output_type": "stream",
     "text": [
      "(3, 2, 3)\n",
      "[[[3]]]\n",
      "3\n",
      "[[[3 3 3]]]\n"
     ]
    }
   ],
   "source": [
    "d = tf.constant([[[1,1,1], [2,2,2]], [[3,3,3], [4,4,4]], [[5,5,5], [6,6,6]]], dtype=tf.int32)\n",
    "print (d.shape)\n",
    "d1 = tf.slice(d, [1,0,0], [1,1,1])\n",
    "d2 = tf.slice(d, [1,0,0], [1,1,3])\n",
    "with tf.Session() as sess:\n",
    "    print (sess.run(d1))\n",
    "    print (sess.run(d)[1][0][0])\n",
    "    print (sess.run(d2))\n",
    "    "
   ]
  },
  {
   "cell_type": "markdown",
   "metadata": {},
   "source": [
    "#### split tensors"
   ]
  },
  {
   "cell_type": "code",
   "execution_count": 66,
   "metadata": {},
   "outputs": [
    {
     "name": "stdout",
     "output_type": "stream",
     "text": [
      "(2, 4, 2)\n",
      "Tensor(\"Rank_13:0\", shape=(), dtype=int32)\n",
      "(2, 2, 2)\n"
     ]
    }
   ],
   "source": [
    "d = tf.constant([[[1, 1], [2, 2], [3, 3], [4, 4]], [[1, 1], [2, 2], [3, 3], [4, 4]]])\n",
    "print (d.shape)\n",
    "print (tf.rank(d))\n",
    "D = tf.split(d, num_or_size_splits=2, axis=1)\n",
    "#d0, d1 = tf.split(2, 2, d)\n",
    "print (D[0].shape)"
   ]
  },
  {
   "cell_type": "code",
   "execution_count": 63,
   "metadata": {},
   "outputs": [
    {
     "name": "stdout",
     "output_type": "stream",
     "text": [
      "(2, 3)\n",
      "[array([[1],\n",
      "       [4]], dtype=int32), array([[2],\n",
      "       [5]], dtype=int32), array([[3],\n",
      "       [6]], dtype=int32)]\n",
      "[array([1, 4], dtype=int32), array([2, 5], dtype=int32), array([3, 6], dtype=int32)]\n",
      "[array([[1, 2, 3]], dtype=int32), array([[4, 5, 6]], dtype=int32)]\n",
      "[array([1, 2, 3], dtype=int32), array([4, 5, 6], dtype=int32)]\n"
     ]
    }
   ],
   "source": [
    "A = tf.constant([[1, 2, 3], [4, 5, 6]])\n",
    "print (A.shape)\n",
    "a0 = tf.split(A, num_or_size_splits=3, axis=1)\n",
    "a1 = tf.unstack(A, num=3,axis=1)\n",
    "a2 = tf.split(A, num_or_size_splits=2, axis=0)\n",
    "a3 = tf.unstack(A, num=2,axis=0)\n",
    "with tf.Session() as sess:\n",
    "    print(sess.run(a0))\n",
    "    print(sess.run(a1))\n",
    "    print(sess.run(a2))\n",
    "    print(sess.run(a3))\n"
   ]
  },
  {
   "cell_type": "markdown",
   "metadata": {},
   "source": [
    "#### Concat tensors"
   ]
  },
  {
   "cell_type": "code",
   "execution_count": 72,
   "metadata": {},
   "outputs": [
    {
     "name": "stdout",
     "output_type": "stream",
     "text": [
      "(2, 4, 2)\n",
      "Tensor(\"Rank_18:0\", shape=(), dtype=int32)\n",
      "(2, 2, 2)\n",
      "(2, 2, 4)\n"
     ]
    }
   ],
   "source": [
    "d = tf.constant([[[1, 1], [2, 2], [3, 3], [4, 4]], [[1, 1], [2, 2], [3, 3], [4, 4]]])\n",
    "print (d.shape)\n",
    "print (tf.rank(d))\n",
    "D = tf.split(d, num_or_size_splits=2, axis=1)\n",
    "#d0, d1 = tf.split(2, 2, d)\n",
    "print (D[0].shape)\n",
    "\n",
    "E = tf.concat([D[0], D[1]], axis=-1)\n",
    "print (E.shape)"
   ]
  },
  {
   "cell_type": "code",
   "execution_count": 77,
   "metadata": {},
   "outputs": [
    {
     "name": "stdout",
     "output_type": "stream",
     "text": [
      "(3, 2)\n",
      "(1, 2)\n",
      "(1, 6)\n",
      "d2:  [[1 1]\n",
      " [2 2]\n",
      " [3 3]]\n",
      "E2:  [[1 1 2 2 3 3]]\n"
     ]
    }
   ],
   "source": [
    "d2 = tf.constant([[1, 1], [2, 2], [3, 3]])\n",
    "print (d2.shape)\n",
    "D2 = tf.split(d2, num_or_size_splits=3)\n",
    "print (D2[0].shape)\n",
    "E2 = tf.concat(D2, axis=-1)\n",
    "print (E2.shape)\n",
    "with tf.Session() as sess:\n",
    "    print (\"d2: \", sess.run(d2))\n",
    "    print (\"E2: \", sess.run(E2))\n",
    "    sess.close()"
   ]
  },
  {
   "cell_type": "markdown",
   "metadata": {},
   "source": [
    "#### Transpose"
   ]
  },
  {
   "cell_type": "code",
   "execution_count": 7,
   "metadata": {},
   "outputs": [
    {
     "name": "stdout",
     "output_type": "stream",
     "text": [
      "(2, 3)\n",
      "(3, 2)\n",
      "x1 shape:  (2, 3, 1)\n",
      "x1_t shape:  (1, 3, 2)\n",
      "x:  [[1 2 3]\n",
      " [4 5 6]]\n",
      "x_t:  [[1 4]\n",
      " [2 5]\n",
      " [3 6]]\n",
      "x1:  [[[1]\n",
      "  [2]\n",
      "  [3]]\n",
      "\n",
      " [[4]\n",
      "  [5]\n",
      "  [6]]]\n",
      "x1_t:  [[[1 4]\n",
      "  [2 5]\n",
      "  [3 6]]]\n"
     ]
    }
   ],
   "source": [
    "x = tf.constant([[1, 2, 3], [4, 5, 6]])\n",
    "print (x.shape)\n",
    "x_t = tf.transpose(x)\n",
    "print (x_t.shape)\n",
    "\n",
    "x1 = tf.expand_dims(x, -1)\n",
    "print (\"x1 shape: \", x1.shape)\n",
    "x1_t = tf.transpose(x1, perm=[2, 1, 0])\n",
    "print (\"x1_t shape: \", x1_t.shape)\n",
    "with tf.Session() as sess:\n",
    "    print (\"x: \", sess.run(x))\n",
    "    print (\"x_t: \", sess.run(x_t))\n",
    "    print (\"x1: \", sess.run(x1))\n",
    "    print (\"x1_t: \", sess.run(x1_t))\n",
    "    sess.close()"
   ]
  },
  {
   "cell_type": "markdown",
   "metadata": {},
   "source": [
    "#### Reduce sum and Redum mean"
   ]
  },
  {
   "cell_type": "code",
   "execution_count": 11,
   "metadata": {},
   "outputs": [
    {
     "name": "stdout",
     "output_type": "stream",
     "text": [
      "(2, 3)\n",
      "(2,)\n",
      "x:  [[1 2 3]\n",
      " [4 5 6]]\n",
      "x_sum:  [ 6 15]\n",
      "x_mean:  [2 5]\n"
     ]
    }
   ],
   "source": [
    "x = tf.constant([[1, 2, 3], [4, 5, 6]])\n",
    "x_sum = tf.reduce_sum(x, axis=-1)\n",
    "x_mean = tf.reduce_mean(x, axis=-1)\n",
    "print (x.shape)\n",
    "print (x_sum.shape)\n",
    "with tf.Session() as sess:\n",
    "    print (\"x: \", sess.run(x))\n",
    "    print (\"x_sum: \", sess.run(x_sum))\n",
    "    print (\"x_mean: \", sess.run(x_mean))\n",
    "    sess.close()"
   ]
  },
  {
   "cell_type": "code",
   "execution_count": null,
   "metadata": {
    "collapsed": true
   },
   "outputs": [],
   "source": []
  }
 ],
 "metadata": {
  "kernelspec": {
   "display_name": "Python 3",
   "language": "python",
   "name": "python3"
  },
  "language_info": {
   "codemirror_mode": {
    "name": "ipython",
    "version": 3
   },
   "file_extension": ".py",
   "mimetype": "text/x-python",
   "name": "python",
   "nbconvert_exporter": "python",
   "pygments_lexer": "ipython3",
   "version": "3.6.3"
  }
 },
 "nbformat": 4,
 "nbformat_minor": 2
}
