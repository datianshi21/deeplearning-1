{
 "cells": [
  {
   "cell_type": "markdown",
   "metadata": {},
   "source": [
    "### 将python方程转化为tensor operation\n",
    "tf.py_func\n",
    "tf.py_func(\n",
    "    func,\n",
    "    inp,\n",
    "    Tout,\n",
    "    stateful=True,\n",
    "    name=None\n",
    ")\n",
    "Defined in tensorflow/python/ops/script_ops.py.\n",
    "\n",
    "Wraps a python function and uses it as a TensorFlow op.\n",
    "\n",
    "Given a python function func, which takes numpy arrays as its arguments and returns numpy arrays as its outputs, wrap this function as an operation in a TensorFlow graph. The following snippet constructs a simple TensorFlow graph that invokes the np.sinh() NumPy function as a operation in the graph:\n",
    "\n",
    "def my_func(x):\n",
    "  ###### x will be a numpy array with the contents of the placeholder below\n",
    "  return np.sinh(x)\n",
    "input = tf.placeholder(tf.float32)\n",
    "y = tf.py_func(my_func, [input], tf.float32)\n",
    "N.B. The tf.py_func() operation has the following known limitations:\n",
    "\n",
    "The body of the function (i.e. func) will not be serialized in a GraphDef. Therefore, you should not use this function if you need to serialize your model and restore it in a different environment.\n",
    "\n",
    "The operation must run in the same address space as the Python program that calls tf.py_func(). If you are using distributed TensorFlow, you must run a tf.train.Server in the same process as the program that calls tf.py_func() and you must pin the created operation to a device in that server (e.g. using with tf.device():).\n",
    "\n",
    "Args:\n",
    "func: A Python function, which accepts ndarray objects as arguments and returns a list of ndarray objects (or a single ndarray). This function must accept as many arguments as there are tensors in inp, and these argument types will match the corresponding tf.Tensor objects in inp. The returns ndarrays must match the number and types defined Tout. Important Note: Input and output numpy ndarrays of func are not guaranteed to be copies. In some cases their underlying memory will be shared with the corresponding TensorFlow tensors. In-place modification or storing func input or return values in python datastructures without explicit (np.)copy can have non-deterministic consequences.\n",
    "inp: A list of Tensor objects.\n",
    "Tout: A list or tuple of tensorflow data types or a single tensorflow data type if there is only one, indicating what func returns.\n",
    "stateful: (Boolean.) If True, the function should be considered stateful. If a function is stateless, when given the same input it will return the same output and have no observable side effects. Optimizations such as common subexpression elimination are only performed on stateless operations.\n",
    "name: A name for the operation (optional).\n",
    "Returns:\n",
    "A list of Tensor or a single Tensor which func computes.\n",
    "\n"
   ]
  },
  {
   "cell_type": "code",
   "execution_count": 5,
   "metadata": {},
   "outputs": [],
   "source": [
    "import tensorflow as tf\n",
    "import numpy as np\n"
   ]
  },
  {
   "cell_type": "markdown",
   "metadata": {},
   "source": [
    "### Demo1: "
   ]
  },
  {
   "cell_type": "code",
   "execution_count": 9,
   "metadata": {},
   "outputs": [
    {
     "name": "stdout",
     "output_type": "stream",
     "text": [
      "10.0179\n"
     ]
    }
   ],
   "source": [
    "def my_func(x):\n",
    "    return np.sinh(x)\n",
    "inputs = tf.placeholder(tf.float32)\n",
    "y = tf.py_func(my_func, [inputs], tf.float32)\n",
    "\n",
    "a = tf.constant(3.0, dtype=tf.float32)\n",
    "x = 3.0\n",
    "with tf.Session() as sess:\n",
    "    #print (sess.run(y))  #Error, no inputs\n",
    "    print (sess.run(y, feed_dict={inputs: x}))\n",
    "    sess.close()"
   ]
  },
  {
   "cell_type": "markdown",
   "metadata": {},
   "source": [
    "### Demo2: "
   ]
  },
  {
   "cell_type": "code",
   "execution_count": 57,
   "metadata": {},
   "outputs": [
    {
     "name": "stdout",
     "output_type": "stream",
     "text": [
      "Final outputs [[ True  True False  True  True]]\n",
      "Output type:  <class 'numpy.ndarray'>\n",
      "Final outputs:  [[ True  True False  True  True]]\n"
     ]
    }
   ],
   "source": [
    "def my_func2(x):\n",
    "    length = len(x[0])\n",
    "    #print (length)\n",
    "    flags = np.empty((1, 5), dtype=np.bool)\n",
    "    for i in range(0, length):\n",
    "        #print (x[0][i])\n",
    "        if x[0][i] >= 0:\n",
    "            flags[0][i] = True\n",
    "        else:\n",
    "            flags[0][i] = False\n",
    "\n",
    "    #new_array = np.array\n",
    "    #for i in (0, length):\n",
    "    #    if x[0][i] >= 0:\n",
    "    #        flags[0][i] = True\n",
    "    #    else:\n",
    "    #        flags[0][i] = False\n",
    "    return flags\n",
    "inputs2 = tf.placeholder(tf.float32, shape=[1, 5])\n",
    "y2 = tf.py_func(my_func2, [inputs2], tf.bool)\n",
    "x2 = [[1.0, 2.0, -3.0, 1.6, 0.0]]\n",
    "#print (x2[0][1])\n",
    "with tf.Session() as sess:\n",
    "    output = sess.run(y2, feed_dict={inputs2: x2})\n",
    "    print (\"Final outputs\", output)\n",
    "    print (\"Output type: \", type(output))\n",
    "    print (\"Final outputs: \", sess.run(y2, feed_dict={inputs2: x2}))\n",
    "    sess.close()\n",
    "\n"
   ]
  },
  {
   "cell_type": "code",
   "execution_count": 58,
   "metadata": {},
   "outputs": [
    {
     "name": "stdout",
     "output_type": "stream",
     "text": [
      "(5,)\n",
      "[ True False False False False]\n",
      "[ True  True False False False]\n",
      "[ True  True  True False False]\n",
      "[ True  True  True  True False]\n",
      "[ True  True  True  True  True]\n",
      "--------------------------------\n",
      "(5,)\n",
      "5\n",
      "[ True  True  True  True  True]\n"
     ]
    }
   ],
   "source": [
    "array1 = np.array([1.0, 2.0, 3.0, 4.0, 5.0])\n",
    "new_array = np.array([False, False, False, False, False])\n",
    "print (array1.shape)\n",
    "for i in range(0, array1.shape[0]):\n",
    "    if array1[i] > 0:\n",
    "        new_array[i] = True\n",
    "    print (new_array)\n",
    "\n",
    "print (\"--------------------------------\")\n",
    "a = np.empty((5), dtype=np.bool)\n",
    "print (a.shape)\n",
    "print (a.shape[0])\n",
    "print (a)"
   ]
  },
  {
   "cell_type": "code",
   "execution_count": 61,
   "metadata": {},
   "outputs": [
    {
     "name": "stdout",
     "output_type": "stream",
     "text": [
      "Outputs3:  [[False False False False False]]\n"
     ]
    }
   ],
   "source": [
    "def my_func3(x1, x2):\n",
    "    length = len(x1[0])\n",
    "    flags = np.empty((1, 5), dtype=np.bool)\n",
    "    for i in range(0, length):\n",
    "        sum = x1[0][i] + x2[0][i]\n",
    "        if sum > 0:\n",
    "            flags[0][i] = True\n",
    "        else:\n",
    "            flags[0][i] = False\n",
    "    return flags\n",
    "inputs31 = tf.placeholder(tf.float32, shape=[1, 5])\n",
    "inputs32 = tf.placeholder(tf.float32, shape=[1, 5])\n",
    "y3 = tf.py_func(my_func3, [inputs31, inputs32], tf.bool)\n",
    "x31 = [[1.0, 2.0, 3.0, 4.0, 5.0]]\n",
    "x32 = [[0.0, -3.0, -4.0, 1.0, -4.0]]\n",
    "with tf.Session() as sess:\n",
    "    output = sess.run(y3, feed_dict={inputs31: x31, inputs32: x32})\n",
    "    print (\"Outputs3: \", output)\n",
    "    sess.close()"
   ]
  },
  {
   "cell_type": "code",
   "execution_count": null,
   "metadata": {
    "collapsed": true
   },
   "outputs": [],
   "source": []
  }
 ],
 "metadata": {
  "kernelspec": {
   "display_name": "Python 3",
   "language": "python",
   "name": "python3"
  },
  "language_info": {
   "codemirror_mode": {
    "name": "ipython",
    "version": 3
   },
   "file_extension": ".py",
   "mimetype": "text/x-python",
   "name": "python",
   "nbconvert_exporter": "python",
   "pygments_lexer": "ipython3",
   "version": "3.6.3"
  }
 },
 "nbformat": 4,
 "nbformat_minor": 2
}
