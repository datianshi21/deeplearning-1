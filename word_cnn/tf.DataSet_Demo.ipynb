{
 "cells": [
  {
   "cell_type": "code",
   "execution_count": null,
   "metadata": {
    "collapsed": true
   },
   "outputs": [],
   "source": [
    "import tensorflow as tf\n",
    "import numpy as np\n",
    "BATCH_SIZE=32\n",
    "def input_fn(path_csv, path_vocab, shuffle_buffer_size, num_oov_buckets):\n",
    "    vocab = tf.contrib.lookup.index_table_from_file(path_vocab, num_oov_buckets=num_oov_buckets)\n",
    "    #Load txt file, one example per line\n",
    "    dataset = tf.data.TextLineDataset(path_csv)\n",
    "    #Convert line into list of tokens, splitting by white space\n",
    "    dataset = dataset.map(lambda line: parse_line(line, vocab))\n",
    "    if shuffle_buffer_size > 0:\n",
    "        dataset = dataset.shuffle(shuffle_buffer_size).repeat()\n",
    "    dataset = dataset.batch(BATCH_SIZE, drop_remainder=True).prefetch(1)\n",
    "    print (dataset.output_types)\n",
    "    print (dataset.output_shapes)\n",
    "    return dataset"
   ]
  }
 ],
 "metadata": {
  "kernelspec": {
   "display_name": "Python 3",
   "language": "python",
   "name": "python3"
  },
  "language_info": {
   "codemirror_mode": {
    "name": "ipython",
    "version": 3
   },
   "file_extension": ".py",
   "mimetype": "text/x-python",
   "name": "python",
   "nbconvert_exporter": "python",
   "pygments_lexer": "ipython3",
   "version": "3.6.3"
  }
 },
 "nbformat": 4,
 "nbformat_minor": 2
}
